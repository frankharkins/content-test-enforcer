{
 "cells": [
  {
   "cell_type": "markdown",
   "id": "196730df-70c1-44e6-8a07-b9a68cf48a75",
   "metadata": {},
   "source": [
    "# Title\n",
    "\n",
    "Here's some markdown; this doesn't appear to be a problem."
   ]
  },
  {
   "cell_type": "code",
   "execution_count": 1,
   "id": "818e9520-4a69-4b56-a2e6-80fbeabe1bb8",
   "metadata": {
    "editable": true,
    "slideshow": {
     "slide_type": ""
    },
    "tags": [
     "remove-cell"
    ]
   },
   "outputs": [
    {
     "name": "stdout",
     "output_type": "stream",
     "text": [
      "hello\n"
     ]
    }
   ],
   "source": [
    "#| content: Here's some\n",
    "#| content: this doesn't appear\n",
    "print(\"hello\")"
   ]
  }
 ],
 "metadata": {
  "kernelspec": {
   "display_name": "Python 3 (ipykernel)",
   "language": "python",
   "name": "python3"
  },
  "language_info": {
   "codemirror_mode": {
    "name": "ipython",
    "version": 3
   },
   "file_extension": ".py",
   "mimetype": "text/x-python",
   "name": "python",
   "nbconvert_exporter": "python",
   "pygments_lexer": "ipython3",
   "version": "3.11.6"
  }
 },
 "nbformat": 4,
 "nbformat_minor": 5
}
